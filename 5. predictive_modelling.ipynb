{
 "cells": [
  {
   "cell_type": "code",
   "execution_count": 1,
   "id": "42f6ab7b",
   "metadata": {},
   "outputs": [],
   "source": [
    "import pandas as pd\n",
    "from sklearn.model_selection import train_test_split\n",
    "from sklearn.linear_model import LogisticRegression\n",
    "from sklearn.tree import DecisionTreeClassifier\n",
    "from sklearn.ensemble import RandomForestClassifier\n",
    "from sklearn.metrics import classification_report, confusion_matrix, accuracy_score"
   ]
  },
  {
   "cell_type": "code",
   "execution_count": 2,
   "id": "7018f98a",
   "metadata": {},
   "outputs": [
    {
     "data": {
      "text/html": [
       "<div>\n",
       "<style scoped>\n",
       "    .dataframe tbody tr th:only-of-type {\n",
       "        vertical-align: middle;\n",
       "    }\n",
       "\n",
       "    .dataframe tbody tr th {\n",
       "        vertical-align: top;\n",
       "    }\n",
       "\n",
       "    .dataframe thead th {\n",
       "        text-align: right;\n",
       "    }\n",
       "</style>\n",
       "<table border=\"1\" class=\"dataframe\">\n",
       "  <thead>\n",
       "    <tr style=\"text-align: right;\">\n",
       "      <th></th>\n",
       "      <th>gender</th>\n",
       "      <th>family_history</th>\n",
       "      <th>leave</th>\n",
       "      <th>mental_health_consequence</th>\n",
       "      <th>coworkers</th>\n",
       "      <th>seek_help</th>\n",
       "    </tr>\n",
       "  </thead>\n",
       "  <tbody>\n",
       "    <tr>\n",
       "      <th>1</th>\n",
       "      <td>Female</td>\n",
       "      <td>No</td>\n",
       "      <td>Somewhat easy</td>\n",
       "      <td>No</td>\n",
       "      <td>Some of them</td>\n",
       "      <td>Yes</td>\n",
       "    </tr>\n",
       "    <tr>\n",
       "      <th>2</th>\n",
       "      <td>Male</td>\n",
       "      <td>No</td>\n",
       "      <td>Don't know</td>\n",
       "      <td>Maybe</td>\n",
       "      <td>No</td>\n",
       "      <td>Don't know</td>\n",
       "    </tr>\n",
       "    <tr>\n",
       "      <th>3</th>\n",
       "      <td>Male</td>\n",
       "      <td>No</td>\n",
       "      <td>Somewhat difficult</td>\n",
       "      <td>No</td>\n",
       "      <td>Yes</td>\n",
       "      <td>No</td>\n",
       "    </tr>\n",
       "    <tr>\n",
       "      <th>4</th>\n",
       "      <td>Male</td>\n",
       "      <td>Yes</td>\n",
       "      <td>Somewhat difficult</td>\n",
       "      <td>Yes</td>\n",
       "      <td>Some of them</td>\n",
       "      <td>No</td>\n",
       "    </tr>\n",
       "    <tr>\n",
       "      <th>5</th>\n",
       "      <td>Male</td>\n",
       "      <td>No</td>\n",
       "      <td>Don't know</td>\n",
       "      <td>No</td>\n",
       "      <td>Some of them</td>\n",
       "      <td>Don't know</td>\n",
       "    </tr>\n",
       "    <tr>\n",
       "      <th>...</th>\n",
       "      <td>...</td>\n",
       "      <td>...</td>\n",
       "      <td>...</td>\n",
       "      <td>...</td>\n",
       "      <td>...</td>\n",
       "      <td>...</td>\n",
       "    </tr>\n",
       "    <tr>\n",
       "      <th>1247</th>\n",
       "      <td>Male</td>\n",
       "      <td>No</td>\n",
       "      <td>Somewhat easy</td>\n",
       "      <td>No</td>\n",
       "      <td>Some of them</td>\n",
       "      <td>No</td>\n",
       "    </tr>\n",
       "    <tr>\n",
       "      <th>1248</th>\n",
       "      <td>Male</td>\n",
       "      <td>Yes</td>\n",
       "      <td>Somewhat difficult</td>\n",
       "      <td>No</td>\n",
       "      <td>Some of them</td>\n",
       "      <td>No</td>\n",
       "    </tr>\n",
       "    <tr>\n",
       "      <th>1249</th>\n",
       "      <td>Male</td>\n",
       "      <td>Yes</td>\n",
       "      <td>Somewhat difficult</td>\n",
       "      <td>Yes</td>\n",
       "      <td>No</td>\n",
       "      <td>No</td>\n",
       "    </tr>\n",
       "    <tr>\n",
       "      <th>1250</th>\n",
       "      <td>Female</td>\n",
       "      <td>No</td>\n",
       "      <td>Don't know</td>\n",
       "      <td>Yes</td>\n",
       "      <td>No</td>\n",
       "      <td>No</td>\n",
       "    </tr>\n",
       "    <tr>\n",
       "      <th>1251</th>\n",
       "      <td>Male</td>\n",
       "      <td>Yes</td>\n",
       "      <td>Don't know</td>\n",
       "      <td>Maybe</td>\n",
       "      <td>Some of them</td>\n",
       "      <td>No</td>\n",
       "    </tr>\n",
       "  </tbody>\n",
       "</table>\n",
       "<p>1251 rows × 6 columns</p>\n",
       "</div>"
      ],
      "text/plain": [
       "      gender family_history               leave mental_health_consequence  \\\n",
       "1     Female             No       Somewhat easy                        No   \n",
       "2       Male             No          Don't know                     Maybe   \n",
       "3       Male             No  Somewhat difficult                        No   \n",
       "4       Male            Yes  Somewhat difficult                       Yes   \n",
       "5       Male             No          Don't know                        No   \n",
       "...      ...            ...                 ...                       ...   \n",
       "1247    Male             No       Somewhat easy                        No   \n",
       "1248    Male            Yes  Somewhat difficult                        No   \n",
       "1249    Male            Yes  Somewhat difficult                       Yes   \n",
       "1250  Female             No          Don't know                       Yes   \n",
       "1251    Male            Yes          Don't know                     Maybe   \n",
       "\n",
       "         coworkers   seek_help  \n",
       "1     Some of them         Yes  \n",
       "2               No  Don't know  \n",
       "3              Yes          No  \n",
       "4     Some of them          No  \n",
       "5     Some of them  Don't know  \n",
       "...            ...         ...  \n",
       "1247  Some of them          No  \n",
       "1248  Some of them          No  \n",
       "1249            No          No  \n",
       "1250            No          No  \n",
       "1251  Some of them          No  \n",
       "\n",
       "[1251 rows x 6 columns]"
      ]
     },
     "execution_count": 2,
     "metadata": {},
     "output_type": "execute_result"
    }
   ],
   "source": [
    "cleaned_data = pd.read_csv('cleaned_data.csv')\n",
    "cleaned_data.reset_index(drop=True, inplace=True)\n",
    "cleaned_data.index = cleaned_data.index + 1\n",
    "cleaned_data[['gender', 'family_history', 'leave', 'mental_health_consequence', 'coworkers', 'seek_help']]\n"
   ]
  },
  {
   "cell_type": "markdown",
   "id": "7199fa49",
   "metadata": {},
   "source": [
    "### Predictive Modelling "
   ]
  },
  {
   "cell_type": "markdown",
   "id": "270ee4ec",
   "metadata": {},
   "source": [
    "#### I have identified six predictors with statistically significant associations to receiving mental health treatment. The predictive modelling step involves using the insights gained from your EDA and statistical analysis to build models that can predict outcomes based on your significant predictors. I chose Logistic Regression model and Random Forest for predicting whether individuals have received treatment for mental health issues. "
   ]
  },
  {
   "cell_type": "markdown",
   "id": "b17e11f5",
   "metadata": {},
   "source": [
    "#### Encode categorical variables"
   ]
  },
  {
   "cell_type": "code",
   "execution_count": 3,
   "id": "66584534",
   "metadata": {},
   "outputs": [
    {
     "name": "stdout",
     "output_type": "stream",
     "text": [
      "  treatment  gender_Male  gender_Other  family_history_Yes  \\\n",
      "1       Yes        False         False               False   \n",
      "2        No         True         False               False   \n",
      "3        No         True         False               False   \n",
      "4       Yes         True         False                True   \n",
      "5        No         True         False               False   \n",
      "\n",
      "   leave_Somewhat difficult  leave_Somewhat easy  leave_Very difficult  \\\n",
      "1                     False                 True                 False   \n",
      "2                     False                False                 False   \n",
      "3                      True                False                 False   \n",
      "4                      True                False                 False   \n",
      "5                     False                False                 False   \n",
      "\n",
      "   leave_Very easy  mental_health_consequence_No  \\\n",
      "1            False                          True   \n",
      "2            False                         False   \n",
      "3            False                          True   \n",
      "4            False                         False   \n",
      "5            False                          True   \n",
      "\n",
      "   mental_health_consequence_Yes  coworkers_Some of them  coworkers_Yes  \\\n",
      "1                          False                    True          False   \n",
      "2                          False                   False          False   \n",
      "3                          False                   False           True   \n",
      "4                           True                    True          False   \n",
      "5                          False                    True          False   \n",
      "\n",
      "   seek_help_No  seek_help_Yes  \n",
      "1         False           True  \n",
      "2         False          False  \n",
      "3          True          False  \n",
      "4          True          False  \n",
      "5         False          False  \n"
     ]
    }
   ],
   "source": [
    "categorical_variables = ['gender', 'family_history', 'leave', 'mental_health_consequence', 'coworkers', 'seek_help']\n",
    "\n",
    "encoded_data = pd.get_dummies(cleaned_data[categorical_variables + ['treatment']], columns = categorical_variables, drop_first = True)\n",
    "\n",
    "print(encoded_data.head())"
   ]
  },
  {
   "cell_type": "markdown",
   "id": "13c72c67",
   "metadata": {},
   "source": [
    "#### Split the Data"
   ]
  },
  {
   "cell_type": "code",
   "execution_count": 4,
   "id": "efce6cb1",
   "metadata": {},
   "outputs": [
    {
     "name": "stdout",
     "output_type": "stream",
     "text": [
      "Training set size: 1000 samples\n",
      "Testing set size: 251 samples\n"
     ]
    }
   ],
   "source": [
    "from sklearn.model_selection import train_test_split\n",
    "\n",
    "encoded_data['treatment'] = encoded_data['treatment'].map({'Yes': 1, 'No': 0})\n",
    "\n",
    "X = encoded_data.drop('treatment', axis = 1)  \n",
    "y = encoded_data['treatment'].astype(int) \n",
    "\n",
    "\n",
    "X_train, X_test, y_train, y_test = train_test_split(X, y, test_size = 0.2, random_state = 10)\n",
    "\n",
    "print(f\"Training set size: {X_train.shape[0]} samples\")\n",
    "print(f\"Testing set size: {X_test.shape[0]} samples\")"
   ]
  },
  {
   "cell_type": "markdown",
   "id": "5611a9a3",
   "metadata": {},
   "source": [
    "##### Logistic Regression"
   ]
  },
  {
   "cell_type": "code",
   "execution_count": 5,
   "id": "f0a79a92",
   "metadata": {},
   "outputs": [],
   "source": [
    "log_reg = LogisticRegression(solver = 'liblinear', random_state=42)\n",
    "log_reg.fit(X_train, y_train)\n",
    "y_pred = log_reg.predict(X_test)"
   ]
  },
  {
   "cell_type": "code",
   "execution_count": 6,
   "id": "85c6028c",
   "metadata": {},
   "outputs": [
    {
     "name": "stdout",
     "output_type": "stream",
     "text": [
      "Classification Report:\n",
      "               precision    recall  f1-score   support\n",
      "\n",
      "           0       0.72      0.72      0.72       131\n",
      "           1       0.69      0.69      0.69       120\n",
      "\n",
      "    accuracy                           0.71       251\n",
      "   macro avg       0.70      0.70      0.70       251\n",
      "weighted avg       0.71      0.71      0.71       251\n",
      "\n",
      "Accuracy: 0.7051792828685259\n",
      "Confusion Matrix:\n",
      " [[94 37]\n",
      " [37 83]]\n"
     ]
    }
   ],
   "source": [
    "print(\"Classification Report:\\n\", classification_report(y_test, y_pred))\n",
    "print(\"Accuracy:\", accuracy_score(y_test, y_pred))\n",
    "print(\"Confusion Matrix:\\n\", confusion_matrix(y_test, y_pred))"
   ]
  },
  {
   "cell_type": "markdown",
   "id": "ff3fd81a",
   "metadata": {},
   "source": [
    "##### My Logistic Regression model's overall accuracy is approximately 70.52%, indicating that it correctly predicts the treatment status for about 71% of the cases in the test set. A Confusion Matrix seems to have reasonable performance in determining the association between mental health and employment within the tech sector."
   ]
  },
  {
   "cell_type": "markdown",
   "id": "de0d6268",
   "metadata": {},
   "source": [
    "##### Random Forest "
   ]
  },
  {
   "cell_type": "code",
   "execution_count": 9,
   "id": "e9f9e05f",
   "metadata": {},
   "outputs": [],
   "source": [
    "random_forest = RandomForestClassifier(n_estimators=100, random_state=42)\n",
    "random_forest.fit(X_train, y_train)\n",
    "y_pred_rf = random_forest.predict(X_test)"
   ]
  },
  {
   "cell_type": "code",
   "execution_count": 10,
   "id": "353cd943",
   "metadata": {},
   "outputs": [
    {
     "name": "stdout",
     "output_type": "stream",
     "text": [
      "Classification Report:\n",
      "               precision    recall  f1-score   support\n",
      "\n",
      "           0       0.65      0.68      0.67       131\n",
      "           1       0.63      0.61      0.62       120\n",
      "\n",
      "    accuracy                           0.65       251\n",
      "   macro avg       0.64      0.64      0.64       251\n",
      "weighted avg       0.65      0.65      0.64       251\n",
      "\n",
      "Accuracy: 0.6454183266932271\n",
      "Confusion Matrix:\n",
      " [[89 42]\n",
      " [47 73]]\n"
     ]
    }
   ],
   "source": [
    "print(\"Classification Report:\\n\", classification_report(y_test, y_pred_rf))\n",
    "print(\"Accuracy:\", accuracy_score(y_test, y_pred_rf))\n",
    "print(\"Confusion Matrix:\\n\", confusion_matrix(y_test, y_pred_rf))"
   ]
  },
  {
   "cell_type": "markdown",
   "id": "88dbc802",
   "metadata": {},
   "source": [
    "##### My Random Forest model's overall accuracy is approximately 65%, indicating that it correctly predicts the treatment status for about 71% of the cases in the test set."
   ]
  },
  {
   "cell_type": "code",
   "execution_count": 11,
   "id": "9fb3567a",
   "metadata": {},
   "outputs": [
    {
     "name": "stdout",
     "output_type": "stream",
     "text": [
      "Feature Importances:\n",
      " family_history_Yes               0.261061\n",
      "gender_Male                      0.110656\n",
      "coworkers_Some of them           0.088065\n",
      "seek_help_No                     0.075599\n",
      "leave_Somewhat easy              0.074005\n",
      "seek_help_Yes                    0.062243\n",
      "mental_health_consequence_No     0.061489\n",
      "leave_Very difficult             0.055234\n",
      "mental_health_consequence_Yes    0.055013\n",
      "coworkers_Yes                    0.049668\n",
      "leave_Somewhat difficult         0.049344\n",
      "leave_Very easy                  0.044977\n",
      "gender_Other                     0.012647\n",
      "dtype: float64\n"
     ]
    }
   ],
   "source": [
    "feature_importances = pd.Series(random_forest.feature_importances_, index = X_train.columns).sort_values(ascending = False)\n",
    "print(\"Feature Importances:\\n\", feature_importances) "
   ]
  },
  {
   "cell_type": "markdown",
   "id": "a7a662fe",
   "metadata": {},
   "source": [
    "##### Key Insights from Feature Importances:\n",
    "\n",
    "**Family History:**\n",
    "\n",
    "Having a family history of mental health issues is the most influential predictor in determining whether someone seeks treatment.\n",
    "\n",
    "**Gender:**\n",
    "\n",
    "Being female has a notable influence.\n",
    "\n",
    "**Work Environment:**\n",
    "\n",
    "Comfort in discussing mental health with some or all coworkers suggests the workplace environment's openness impacts treatment-seeking behavior.\n",
    "\n",
    "**Seek Help:**\n",
    "\n",
    "Whether the workplace provides resources or support for mental health (and whether individuals are aware of them) influences treatment-seeking.\n",
    "\n",
    "**Ease of Taking Leave:**\n",
    "\n",
    "The ease or difficulty of taking leave for mental health issues plays a role, indicating that organizational policies and culture around leave can affect individuals' decisions to seek treatment.\n",
    "\n",
    "**Perceived Mental Health Consequences:**\n",
    "\n",
    "Perceptions of potential consequences of disclosing mental health issues or seeking treatment at work also influence treatment-seeking behavior, highlighting the impact of stigma and workplace culture."
   ]
  },
  {
   "cell_type": "code",
   "execution_count": null,
   "id": "b675512f",
   "metadata": {},
   "outputs": [],
   "source": []
  }
 ],
 "metadata": {
  "kernelspec": {
   "display_name": "Python 3 (ipykernel)",
   "language": "python",
   "name": "python3"
  },
  "language_info": {
   "codemirror_mode": {
    "name": "ipython",
    "version": 3
   },
   "file_extension": ".py",
   "mimetype": "text/x-python",
   "name": "python",
   "nbconvert_exporter": "python",
   "pygments_lexer": "ipython3",
   "version": "3.11.5"
  }
 },
 "nbformat": 4,
 "nbformat_minor": 5
}
